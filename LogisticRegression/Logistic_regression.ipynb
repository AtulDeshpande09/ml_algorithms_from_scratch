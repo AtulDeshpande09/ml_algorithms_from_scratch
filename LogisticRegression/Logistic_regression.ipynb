{
 "cells": [
  {
   "cell_type": "code",
   "execution_count": 1,
   "id": "5195dbe6-a483-4521-8ffc-104425937d1a",
   "metadata": {},
   "outputs": [],
   "source": [
    "import math"
   ]
  },
  {
   "cell_type": "code",
   "execution_count": 2,
   "id": "ebb6dc97-4705-47cf-9c12-53bf6acd38fc",
   "metadata": {},
   "outputs": [],
   "source": [
    "def sigmoid(weight:float,bias:float,data_point:float)->float:\n",
    "    # Z is nothing but equation of linear regression\n",
    "    z = weight*data_point + bias\n",
    "    \n",
    "    u = 1 + (math.exp(-z))\n",
    "    \n",
    "    p = 1/u\n",
    "    return p"
   ]
  },
  {
   "cell_type": "code",
   "execution_count": 64,
   "id": "ea26b5e2-e4b0-4991-a3c6-ad6f7b3f7f3b",
   "metadata": {},
   "outputs": [],
   "source": [
    "def gradient_descent(x:list,y:list,iterations:int=50000,learning_rate:float=0.001):\n",
    "    \n",
    "    # Start with current weight and bias as zero\n",
    "    current_weight , current_bias = 0,0\n",
    "    # lenght of the list/array\n",
    "    n = len(x)\n",
    "    for _ in range(iterations):\n",
    "        # initialize gradients as 0 \n",
    "        weight_gradient,bias_gradient = 0,0\n",
    "        \n",
    "        for i in range(n):\n",
    "            \n",
    "            # Logistic regression calculates output based on sigmoid function\n",
    "            # value of p is determined by sigmoid function\n",
    "            p = sigmoid(current_weight,current_bias,x[i])\n",
    "            \n",
    "            # updating weight and bias gradients\n",
    "            weight_gradient += (x[i] *(p - y[i]))/n\n",
    "            bias_gradient += (p - y[i])/n\n",
    "\n",
    "        #Updating weight and bias using Update rule \n",
    "        current_weight -= weight_gradient*learning_rate\n",
    "        current_bias -= bias_gradient*learning_rate\n",
    "\n",
    "    return current_weight , current_bias"
   ]
  },
  {
   "cell_type": "code",
   "execution_count": 65,
   "id": "17b29a78-85e3-48a8-941f-5b41283dc5c9",
   "metadata": {},
   "outputs": [
    {
     "name": "stdout",
     "output_type": "stream",
     "text": [
      " Optimised Weight : 0.8115979396263403 and \n",
      " Optimised Bias : -5.832803445721476\n"
     ]
    }
   ],
   "source": [
    "x_train = [10,5,4,3,11,8,7,12]\n",
    "y_train = [1,0,0,0,1,1,0,1]\n",
    "\n",
    "weight, bias = gradient_descent(x_train,y_train,iterations=100000)\n",
    "print(f\" Optimised Weight : {weight} and \\n Optimised Bias : {bias}\")"
   ]
  },
  {
   "cell_type": "code",
   "execution_count": 66,
   "id": "a641c95e-4a0e-4830-87fe-88723d8ee266",
   "metadata": {},
   "outputs": [
    {
     "name": "stdout",
     "output_type": "stream",
     "text": [
      "Prediction : 0.14494471329227648\n"
     ]
    }
   ],
   "source": [
    "# Lets test our sigmoid function using updated weight and bias\n",
    "# lets check what value it gives for datapoint 5\n",
    "data_point=5\n",
    "prediction = sigmoid(weight,bias,data_point)\n",
    "print(f\"Prediction : {prediction}\")"
   ]
  },
  {
   "cell_type": "code",
   "execution_count": 67,
   "id": "2f9a24e9-5a52-44be-bd90-3eebec04ffc9",
   "metadata": {},
   "outputs": [],
   "source": [
    "prediction_array = list()\n",
    "\n",
    "for i in range(16):\n",
    "    data_point=i\n",
    "    prediction = sigmoid(weight,bias,data_point)\n",
    "    prediction_array.append(prediction)\n"
   ]
  },
  {
   "cell_type": "code",
   "execution_count": 68,
   "id": "045c7b1d-2d61-45df-b3cf-47fd0fdc6e8e",
   "metadata": {},
   "outputs": [
    {
     "data": {
      "text/plain": [
       "[0.002921292820769831,\n",
       " 0.006553340144092465,\n",
       " 0.014634836242365461,\n",
       " 0.032357726710745306,\n",
       " 0.07001807762122252,\n",
       " 0.14494471329227648,\n",
       " 0.27623479874776896,\n",
       " 0.4621679786368354,\n",
       " 0.659255911728744,\n",
       " 0.8132971174373711,\n",
       " 0.907474060543293,\n",
       " 0.9566766576769807,\n",
       " 0.9802832267594022,\n",
       " 0.9911458003906191,\n",
       " 0.9960479765380663,\n",
       " 0.9982408531725875]"
      ]
     },
     "execution_count": 68,
     "metadata": {},
     "output_type": "execute_result"
    }
   ],
   "source": [
    "prediction_array"
   ]
  },
  {
   "cell_type": "code",
   "execution_count": 69,
   "id": "3f08021a-69e8-4abf-87e0-fe3afce160ea",
   "metadata": {},
   "outputs": [],
   "source": [
    "import matplotlib.pyplot as plt\n",
    "import seaborn as sns"
   ]
  },
  {
   "cell_type": "code",
   "execution_count": 70,
   "id": "ea9f5051-1090-4948-b77c-03cee8711879",
   "metadata": {},
   "outputs": [
    {
     "data": {
      "image/png": "[encoded data removed]",
      "text/plain": [
       "<Figure size 640x480 with 1 Axes>"
      ]
     },
     "metadata": {},
     "output_type": "display_data"
    }
   ],
   "source": [
    "sns.lineplot(x=[i for i in range(16)] , y = prediction_array)\n",
    "plt.show()"
   ]
  },
  {
   "cell_type": "code",
   "execution_count": 71,
   "id": "7e2dbbc7-cc98-485e-84f4-1605f6499465",
   "metadata": {},
   "outputs": [],
   "source": [
    "class logisticRegression:\n",
    "\n",
    "    def __init__(self):\n",
    "        self.weight = 0\n",
    "        self.bias = 0\n",
    "\n",
    "    def fit(self,X_train:list , y_train:list):\n",
    "        self.weight ,self.bias = gradient_descent(X_train, y_train,iterations =100000)\n",
    "\n",
    "    def predict(self ,x_test:list)->list:\n",
    "        prediction_list = [ ]\n",
    "\n",
    "        for i in x_test:\n",
    "            prediction = sigmoid(self.weight , self.bias , i)\n",
    "            if prediction <= 0.5:\n",
    "                prediction_list.append(0)\n",
    "            else:\n",
    "                prediction_list.append(1)\n",
    "        return prediction_list"
   ]
  },
  {
   "cell_type": "code",
   "execution_count": 72,
   "id": "9a57cd20-01ea-4241-9bc3-2e81f252f576",
   "metadata": {},
   "outputs": [],
   "source": [
    "x_train = [10,5,4,3,11,8,7,12]\n",
    "y_train = [1,0,0,0,1,1,0,1]\n",
    "\n",
    "model = logisticRegression()\n",
    "model.fit(x_train,y_train)"
   ]
  },
  {
   "cell_type": "code",
   "execution_count": 73,
   "id": "73e16fde-df97-49a0-a841-0487dcd19586",
   "metadata": {},
   "outputs": [
    {
     "name": "stdout",
     "output_type": "stream",
     "text": [
      "[0, 0, 0, 1, 0, 1, 1]\n"
     ]
    }
   ],
   "source": [
    "x_test = [1,2,5,9,7,11,15]\n",
    "prediction = model.predict(x_test)\n",
    "print(prediction)"
   ]
  },
  {
   "cell_type": "code",
   "execution_count": 74,
   "id": "8d9d03c2-ae85-4ea3-b570-5cbdeb2b4acf",
   "metadata": {},
   "outputs": [
    {
     "name": "stdout",
     "output_type": "stream",
     "text": [
      "[1, 1, 1, 0, 0]\n"
     ]
    }
   ],
   "source": [
    "x_test = [11,15 , 9, 3, 4]\n",
    "prediction = model.predict(x_test)\n",
    "print(prediction)"
   ]
  },
  {
   "cell_type": "code",
   "execution_count": null,
   "id": "f00bd2bf-9aaf-4e09-aeec-23c23894d12f",
   "metadata": {},
   "outputs": [],
   "source": []
  },
  {
   "cell_type": "code",
   "execution_count": null,
   "id": "1d1b4059-fcfd-445c-85c8-605c01e79ca2",
   "metadata": {},
   "outputs": [],
   "source": []
  }
 ],
 "metadata": {
  "kernelspec": {
   "display_name": "Python 3 (ipykernel)",
   "language": "python",
   "name": "python3"
  },
  "language_info": {
   "codemirror_mode": {
    "name": "ipython",
    "version": 3
   },
   "file_extension": ".py",
   "mimetype": "text/x-python",
   "name": "python",
   "nbconvert_exporter": "python",
   "pygments_lexer": "ipython3",
   "version": "3.12.7"
  }
 },
 "nbformat": 4,
 "nbformat_minor": 5
}
