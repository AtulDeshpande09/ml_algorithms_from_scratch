{
 "cells": [
  {
   "cell_type": "raw",
   "id": "8904c996-8b6c-46d0-b12f-eef3d334ae1b",
   "metadata": {},
   "source": [
    "Gradient Descent from scratch\n",
    "\n",
    "Theory :\n",
    "Gradient Descent is an iterative optimisation algorithm used in machine learning to minimise cost or loss function.\n",
    "Gradient is a vector in the direction of steepest ascent;\n",
    "So moving in the opposite direction will result in steepest descent.\n",
    "\n",
    "Here we are using Mean Squared Error.\n",
    "MSE = 1/n*sum(y_actual - y_predicted)**2\n",
    "\n",
    "y_predicted = weight*x + bias\n",
    "\n",
    "Partially differentiate it with respect to weight and bias\n",
    "we get weight and bias gradients as \n",
    "\n",
    "weight_gradient = (-2*x/n)sum(y_actual - y_predicted)\n",
    "\n",
    "bias_gradient = (-2/n)sum(y_actual - y_predicted )\n",
    "\n",
    "learning rate is a small scaler which decides how much distance we are going to cover in one step.\n",
    "\n",
    "Update weight and bias as follows :\n",
    " weight = weight - learning_rate * weight_gradient\n",
    " bias = bias - learning_rate * bias_gradient"
   ]
  },
  {
   "cell_type": "code",
   "execution_count": 7,
   "id": "3b40b725-1a7e-438b-99a2-47134e4be754",
   "metadata": {},
   "outputs": [],
   "source": [
    "def gradient_descent(x:list , y:list , learning_rate:float=0.001, iterations:int=1000):\n",
    "\n",
    "    current_weight , current_bias = 0, 0\n",
    "\n",
    "    n = len(x)\n",
    "    \n",
    "    # iterating the main loop over given number of iterations\n",
    "    for _ in range(iterations):\n",
    "\n",
    "        #initialise weight and bias derivatives as 0\n",
    "        weight_derivative = 0\n",
    "        bias_derivative = 0\n",
    "\n",
    "        for i in range(n):\n",
    "            \n",
    "            # calculating predicted value of y based on formula\n",
    "            y_predicted = ( current_weight*x[i] + current_bias)\n",
    "\n",
    "            # Gradients of weight and bias\n",
    "            weight_derivative += (-2*x[i]/n)*(y[i] - y_predicted)\n",
    "            bias_derivative += (-2/n)*(y[i] - y_predicted)\n",
    "\n",
    "        # changing weight and bias after calculating summation of weight and bias derivatives\n",
    "        # Using minus sign since gradient gives direction to highest point\n",
    "        # We want to minimise it Hence moving in opposite direction\n",
    "        current_weight -= learning_rate*weight_derivative\n",
    "        current_bias -= learning_rate*bias_derivative\n",
    "\n",
    "    return current_weight , current_bias"
   ]
  },
  {
   "cell_type": "code",
   "execution_count": 8,
   "id": "eac9cb07-a4f9-4d1d-9a11-f7dc866f8388",
   "metadata": {},
   "outputs": [],
   "source": [
    "x = [ 1, 3, 5, 7, 9]\n",
    "y = [ 2.5 , 7 , 15, 20 , 25]"
   ]
  },
  {
   "cell_type": "code",
   "execution_count": 9,
   "id": "b52e2173-807d-4a01-b7b3-11523f12225e",
   "metadata": {},
   "outputs": [
    {
     "name": "stdout",
     "output_type": "stream",
     "text": [
      "Optimised Weight is : 2.7491873784616403\n",
      "Optimised Bias is : 0.3712907342576842\n"
     ]
    }
   ],
   "source": [
    "weight , bias = gradient_descent(x,y, iterations=100)\n",
    "\n",
    "print(f\"Optimised Weight is : {weight}\")\n",
    "print(f\"Optimised Bias is : {bias}\")"
   ]
  },
  {
   "cell_type": "code",
   "execution_count": null,
   "id": "62cf93f1-7663-480b-8ba9-b4601a3a64cf",
   "metadata": {},
   "outputs": [],
   "source": []
  }
 ],
 "metadata": {
  "kernelspec": {
   "display_name": "Python 3 (ipykernel)",
   "language": "python",
   "name": "python3"
  },
  "language_info": {
   "codemirror_mode": {
    "name": "ipython",
    "version": 3
   },
   "file_extension": ".py",
   "mimetype": "text/x-python",
   "name": "python",
   "nbconvert_exporter": "python",
   "pygments_lexer": "ipython3",
   "version": "3.12.7"
  }
 },
 "nbformat": 4,
 "nbformat_minor": 5
}
