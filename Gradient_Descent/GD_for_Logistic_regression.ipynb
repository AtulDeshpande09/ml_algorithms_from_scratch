{
 "cells": [
  {
   "cell_type": "code",
   "execution_count": 11,
   "id": "5195dbe6-a483-4521-8ffc-104425937d1a",
   "metadata": {},
   "outputs": [],
   "source": [
    "import math"
   ]
  },
  {
   "cell_type": "code",
   "execution_count": 12,
   "id": "ebb6dc97-4705-47cf-9c12-53bf6acd38fc",
   "metadata": {},
   "outputs": [],
   "source": [
    "def sigmoid(weight:float,bias:float,data_point:float)->float:\n",
    "    #This is nothing but cost function of linear regression\n",
    "    z = weight*data_point + bias\n",
    "    \n",
    "    u = 1 + (math.exp(-z))\n",
    "    \n",
    "    p = 1/u\n",
    "    return p"
   ]
  },
  {
   "cell_type": "code",
   "execution_count": 17,
   "id": "ea26b5e2-e4b0-4991-a3c6-ad6f7b3f7f3b",
   "metadata": {},
   "outputs": [],
   "source": [
    "def gradient_descent(x:list,y:list,iterations:int=1000,learning_rate:float=0.001):\n",
    "    \n",
    "    # Start with current weight and bias as zero\n",
    "    current_weight , current_bias = 0,0\n",
    "    # lenght of the list/array\n",
    "    n = len(x)\n",
    "    for _ in range(iterations):\n",
    "        # initialize gradients as 0 \n",
    "        weight_gradient,bias_gradient = 0,0\n",
    "        \n",
    "        for i in range(n):\n",
    "            \n",
    "            # Logistic regression calculates output based on sigmoid function\n",
    "            # value of p is determined by sigmoid function\n",
    "            p = sigmoid(current_weight,current_bias,x[i])\n",
    "            \n",
    "            # updating weight and bias gradients\n",
    "            weight_gradient += (x[i] *(p - y[i]))/n\n",
    "            bias_gradient += (p - y[i])/n\n",
    "\n",
    "        #Updating weight and bias using Update rule \n",
    "        current_weight -= weight_gradient*learning_rate\n",
    "        current_bias -= bias_gradient*learning_rate\n",
    "\n",
    "    return current_weight , current_bias"
   ]
  },
  {
   "cell_type": "code",
   "execution_count": 18,
   "id": "17b29a78-85e3-48a8-941f-5b41283dc5c9",
   "metadata": {},
   "outputs": [
    {
     "name": "stdout",
     "output_type": "stream",
     "text": [
      " Optimised Weight : 0.06900667843371644 and \n",
      " Optimised Bias : -0.007799062955116389\n"
     ]
    }
   ],
   "source": [
    "x_train = [10,5,4,3,11,8,7,12]\n",
    "y_train = [1,0,0,0,1,1,0,1]\n",
    "\n",
    "weight, bias = gradient_descent(x_train,y_train,iterations=100)\n",
    "print(f\" Optimised Weight : {weight} and \\n Optimised Bias : {bias}\")"
   ]
  },
  {
   "cell_type": "code",
   "execution_count": 24,
   "id": "a641c95e-4a0e-4830-87fe-88723d8ee266",
   "metadata": {},
   "outputs": [
    {
     "name": "stdout",
     "output_type": "stream",
     "text": [
      "Prediction : 0.7227801927025947\n"
     ]
    }
   ],
   "source": [
    "# Lets test our sigmoid function using updated weight and bias\n",
    "# lets check what value it gives for datapoint 14\n",
    "data_point=14\n",
    "prediction = sigmoid(weight,bias,data_point)\n",
    "print(f\"Prediction : {prediction}\")"
   ]
  }
 ],
 "metadata": {
  "kernelspec": {
   "display_name": "Python 3 (ipykernel)",
   "language": "python",
   "name": "python3"
  },
  "language_info": {
   "codemirror_mode": {
    "name": "ipython",
    "version": 3
   },
   "file_extension": ".py",
   "mimetype": "text/x-python",
   "name": "python",
   "nbconvert_exporter": "python",
   "pygments_lexer": "ipython3",
   "version": "3.12.7"
  }
 },
 "nbformat": 4,
 "nbformat_minor": 5
}
