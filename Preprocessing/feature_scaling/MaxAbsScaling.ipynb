{
 "cells": [
  {
   "cell_type": "code",
   "execution_count": 7,
   "id": "85a1084b-5a82-43b8-b84c-e80394c48010",
   "metadata": {},
   "outputs": [],
   "source": [
    "class MaxAbsoluteScaler:\n",
    "    def __init__(self):\n",
    "        self.maximum = None\n",
    "\n",
    "    def fit(self,data : list)->None:\n",
    "        \"\"\"\n",
    "        finds max element of array\n",
    "        input : data_list\n",
    "        Returns : None\n",
    "        \"\"\"\n",
    "\n",
    "        self.maximum = max(data)\n",
    "\n",
    "    def fit_tranform(self,data : list)->list:\n",
    "        \"\"\"\n",
    "        Return scaled data \n",
    "        max absolute scaling \n",
    "        Input - Scaled Data - list\n",
    "        Return - Original Data - list\n",
    "        \"\"\"\n",
    "        # This method returns scaled Data\n",
    "\n",
    "        #calling fit method to ensure that max element is calculated\n",
    "        self.fit(data)\n",
    "        \n",
    "        scaled_list = list()\n",
    "        for i in data:\n",
    "            scaled_data =  ( i - self.maximum )/ self.maximum\n",
    "            scaled_list.append(scaled_data)\n",
    "\n",
    "        return scaled_list\n",
    "    \n",
    "    def reverse_transform(self,scaled_data:list)->list:\n",
    "        \"\"\"\n",
    "        Return Original Data\n",
    "        Input - Scaled Data - list\n",
    "        Return - Original Data - list\n",
    "        \"\"\"\n",
    "\n",
    "        # only call this method on scaled data \n",
    "        # Note that calling fit method here will make\n",
    "        # self.maximum = 1 - so we dont call it here like fit_transform\n",
    "\n",
    "        original_list = list()\n",
    "\n",
    "        for i in scaled_data:\n",
    "            original_data = (i * self.maximum)+self.maximum \n",
    "            original_list.append(original_data)\n",
    "            \n",
    "        return original_list"
   ]
  },
  {
   "cell_type": "code",
   "execution_count": 8,
   "id": "d60d33c2-d093-49e3-bdbb-79a0be37b4db",
   "metadata": {},
   "outputs": [
    {
     "name": "stdout",
     "output_type": "stream",
     "text": [
      "Scaled Data : [-0.9, -0.6, -0.4, -0.2, -0.7, -0.8, -0.1, 0.0]\n",
      "Original Data : [1.0, 4.0, 6.0, 8.0, 3.0, 2.0, 9.0, 10.0]\n"
     ]
    }
   ],
   "source": [
    "data = [1,4,6,8,3,2,9,10]\n",
    "\n",
    "scaler = MaxAbsoluteScaler()\n",
    "\n",
    "scaled_data = scaler.fit_tranform(data)\n",
    "original_data = scaler.reverse_transform(scaled_data)\n",
    "\n",
    "print(f\"Scaled Data : {scaled_data}\")\n",
    "print(f\"Original Data : {original_data}\")"
   ]
  },
  {
   "cell_type": "code",
   "execution_count": null,
   "id": "b568ea5f-caaf-40aa-aa1f-d740c2d17192",
   "metadata": {},
   "outputs": [],
   "source": []
  }
 ],
 "metadata": {
  "kernelspec": {
   "display_name": "Python 3 (ipykernel)",
   "language": "python",
   "name": "python3"
  },
  "language_info": {
   "codemirror_mode": {
    "name": "ipython",
    "version": 3
   },
   "file_extension": ".py",
   "mimetype": "text/x-python",
   "name": "python",
   "nbconvert_exporter": "python",
   "pygments_lexer": "ipython3",
   "version": "3.12.7"
  }
 },
 "nbformat": 4,
 "nbformat_minor": 5
}
